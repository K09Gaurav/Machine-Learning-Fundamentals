{
 "cells": [
  {
   "cell_type": "code",
   "execution_count": 2,
   "metadata": {},
   "outputs": [],
   "source": [
    "#importing libraries\n",
    "import numpy as np\n",
    "import matplotlib.pyplot as plt"
   ]
  },
  {
   "cell_type": "markdown",
   "metadata": {},
   "source": [
    "To Calculate cost function We have to run most of the Code from onur previous Model"
   ]
  },
  {
   "cell_type": "code",
   "execution_count": 83,
   "metadata": {},
   "outputs": [
    {
     "name": "stdout",
     "output_type": "stream",
     "text": [
      "X training data = [1. 2. 3. 4. 5.]\n",
      "Y training data = [300. 500. 600. 700. 800.]\n",
      "(5,)\n",
      "5\n",
      "M = 5\n",
      "Value of w = 128 and b = 190\n"
     ]
    }
   ],
   "source": [
    "x_train = np.array([1.0, 2.0,3.0,4.0,5.0])\n",
    "y_train = np.array([300.0, 500.0, 600.0,700.0,800.0])\n",
    "print(f\"X training data = {x_train}\")\n",
    "print(f\"Y training data = {y_train}\")\n",
    "print(x_train.shape)\n",
    "print(x_train.shape[0])\n",
    "\n",
    "m = x_train.shape[0]\n",
    "print(f\"M = {m}\")\n",
    "i = 0\n",
    "x_i = x_train[i]\n",
    "y_i = y_train[i]\n",
    "\n",
    "w = 128\n",
    "b = 190\n",
    "print(f\"Value of w = {w} and b = {b}\")"
   ]
  },
  {
   "cell_type": "code",
   "execution_count": 85,
   "metadata": {},
   "outputs": [],
   "source": [
    "def Calculate_Function(x, w, b):\n",
    "    m = x.shape[0] # size or we can say no of time/ Data points\n",
    "    fn = np.zeros(m) # initialise numpy array filled with 0\n",
    "    for i in range(m):\n",
    "        fn[i] = w * x[i] + b\n",
    "    \n",
    "    return fn"
   ]
  },
  {
   "cell_type": "markdown",
   "metadata": {},
   "source": [
    "Modify the Calculate model function to now calculate COST"
   ]
  },
  {
   "cell_type": "markdown",
   "metadata": {},
   "source": [
    "## Computing Cost\n",
    "The term 'cost' in this assignment might be a little confusing since the data is housing cost. Here, cost is a measure how well our model is predicting the target price of the house. The term 'price' is used for housing data.\n",
    "\n",
    "The equation for cost with one variable is:\n",
    "  $$J(w,b) = \\frac{1}{2m} \\sum\\limits_{i = 0}^{m-1} (f_{w,b}(x^{(i)}) - y^{(i)})^2 \\tag{1}$$ \n",
    " \n",
    "where \n",
    "  $$f_{w,b}(x^{(i)}) = wx^{(i)} + b \\tag{2}$$\n",
    "  \n",
    "- $f_{w,b}(x^{(i)})$ is our prediction for example $i$ using parameters $w,b$.  \n",
    "- $(f_{w,b}(x^{(i)}) -y^{(i)})^2$ is the squared difference between the target value and the prediction.   \n",
    "- These differences are summed over all the $m$ examples and divided by `2m` to produce the cost, $J(w,b)$.  \n",
    ">Note, in lecture summation ranges are typically from 1 to m, while code will be from 0 to m-1.\n"
   ]
  },
  {
   "cell_type": "code",
   "execution_count": 89,
   "metadata": {},
   "outputs": [],
   "source": [
    "def Calculate_Cost(x, y, w, b):\n",
    "    m = x.shape[0] # size or we can say no of time/ Data points\n",
    "    cost = 0 # Error for that perticaular point\n",
    "    cost_sum = 0 # sum\n",
    "    for i in range(m):\n",
    "        fn = w * x[i] + b\n",
    "        cost = (fn - y[i])**2\n",
    "        cost_sum += cost\n",
    "\n",
    "    final = (1/(2*m))*cost_sum # cost function\n",
    "    \n",
    "    return final"
   ]
  },
  {
   "cell_type": "code",
   "execution_count": 86,
   "metadata": {},
   "outputs": [
    {
     "data": {
      "text/plain": [
       "482.0"
      ]
     },
     "execution_count": 86,
     "metadata": {},
     "output_type": "execute_result"
    }
   ],
   "source": [
    "Calculate_Cost(x_train,y_train,w,b)"
   ]
  }
 ],
 "metadata": {
  "kernelspec": {
   "display_name": "base",
   "language": "python",
   "name": "python3"
  },
  "language_info": {
   "codemirror_mode": {
    "name": "ipython",
    "version": 3
   },
   "file_extension": ".py",
   "mimetype": "text/x-python",
   "name": "python",
   "nbconvert_exporter": "python",
   "pygments_lexer": "ipython3",
   "version": "3.11.5"
  }
 },
 "nbformat": 4,
 "nbformat_minor": 2
}
