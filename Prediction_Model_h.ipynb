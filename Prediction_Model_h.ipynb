{
 "cells": [
  {
   "cell_type": "code",
   "execution_count": 2,
   "metadata": {},
   "outputs": [],
   "source": [
    "#importing libraries\n",
    "import numpy as np\n",
    "import matplotlib.pyplot as plt"
   ]
  },
  {
   "cell_type": "markdown",
   "metadata": {},
   "source": [
    "Create 2 arrays to store the data"
   ]
  },
  {
   "cell_type": "code",
   "execution_count": 3,
   "metadata": {},
   "outputs": [
    {
     "name": "stdout",
     "output_type": "stream",
     "text": [
      "X training data = [1. 2. 3. 4. 5.]\n",
      "Y training data = [300. 500. 600. 700. 800.]\n"
     ]
    }
   ],
   "source": [
    "x_train = np.array([1.0, 2.0,3.0,4.0,5.0])\n",
    "y_train = np.array([300.0, 500.0, 600.0,700.0,800.0])\n",
    "print(f\"X training data = {x_train}\")\n",
    "print(f\"Y training data = {y_train}\")"
   ]
  },
  {
   "cell_type": "markdown",
   "metadata": {},
   "source": [
    "Now we have data and we need total number of training examples. or aka M"
   ]
  },
  {
   "cell_type": "markdown",
   "metadata": {},
   "source": [
    "You will use `m` to denote the number of training examples. Numpy arrays have a `.shape` parameter."
   ]
  },
  {
   "cell_type": "markdown",
   "metadata": {},
   "source": [
    ".shape return python tuple with  entry for each dimension"
   ]
  },
  {
   "cell_type": "markdown",
   "metadata": {},
   "source": [
    "OR we can use length also"
   ]
  },
  {
   "cell_type": "code",
   "execution_count": 4,
   "metadata": {},
   "outputs": [
    {
     "name": "stdout",
     "output_type": "stream",
     "text": [
      "(5,)\n",
      "5\n",
      "M = 5\n"
     ]
    }
   ],
   "source": [
    "print(x_train.shape)\n",
    "print(x_train.shape[0])\n",
    "\n",
    "m = x_train.shape[0]\n",
    "print(f\"M = {m}\")"
   ]
  },
  {
   "cell_type": "markdown",
   "metadata": {},
   "source": [
    "### Now we create x_i and y_i"
   ]
  },
  {
   "cell_type": "markdown",
   "metadata": {},
   "source": [
    "As i will iterate through all of the availaible data points then initial value will be 0"
   ]
  },
  {
   "cell_type": "code",
   "execution_count": 5,
   "metadata": {},
   "outputs": [
    {
     "name": "stdout",
     "output_type": "stream",
     "text": [
      "x^0 = 1.0\n",
      "y^0 = 300.0\n"
     ]
    }
   ],
   "source": [
    "i = 0\n",
    "x_i = x_train[i]\n",
    "y_i = y_train[i]\n",
    "\n",
    "print(f\"x^{i} = {x_i}\")\n",
    "print(f\"y^{i} = {y_i}\")"
   ]
  },
  {
   "cell_type": "markdown",
   "metadata": {},
   "source": [
    "## Plot the scatter graph\n"
   ]
  },
  {
   "cell_type": "markdown",
   "metadata": {},
   "source": [
    "use plt.scatter\n",
    "\n",
    "then (x axis variable then y axis)\n",
    "\n",
    "maarker is used to  change the circle (default ) to a cross {Changing the icon}\n",
    "c is color here used green"
   ]
  },
  {
   "cell_type": "code",
   "execution_count": 6,
   "metadata": {},
   "outputs": [
    {
     "data": {
      "image/png": "[encoded data removed]",
      "text/plain": [
       "<Figure size 640x480 with 1 Axes>"
      ]
     },
     "metadata": {},
     "output_type": "display_data"
    }
   ],
   "source": [
    "plt.scatter(x_train, y_train, marker='x' , c = 'g')\n",
    "plt.title(\"Housing Prices\")\n",
    "plt.ylabel(\"price in 1000$\")\n",
    "plt.xlabel(\"Area in square foot\")\n",
    "plt.show()"
   ]
  },
  {
   "cell_type": "markdown",
   "metadata": {},
   "source": [
    "# Model Function"
   ]
  },
  {
   "cell_type": "markdown",
   "metadata": {},
   "source": [
    "## Model function\n",
    "\n",
    "the model function for linear regression (which is a function that maps from `x` to `y`) is represented as \n",
    "\n",
    "$$ f_{w,b}(x^{(i)}) = wx^{(i)} + b \\tag{1}$$\n",
    "\n",
    "The formula above is how you can represent straight lines - different values of $w$ and $b$ give you different straight lines on the plot."
   ]
  },
  {
   "cell_type": "markdown",
   "metadata": {},
   "source": [
    "Since we already have $$x^{(i)}$$ we only need to w/ h_theta_1 / Slope\n",
    "\n",
    "and b / h_theta_0/ y intercept"
   ]
  },
  {
   "cell_type": "markdown",
   "metadata": {},
   "source": [
    "Change the values here for the model to be affected"
   ]
  },
  {
   "cell_type": "code",
   "execution_count": 7,
   "metadata": {},
   "outputs": [
    {
     "name": "stdout",
     "output_type": "stream",
     "text": [
      "Vlaue of w = 130 and b = 185\n"
     ]
    }
   ],
   "source": [
    "w = 130\n",
    "b = 185\n",
    "print(f\"Vlaue of w = {w} and b = {b}\")"
   ]
  },
  {
   "cell_type": "markdown",
   "metadata": {},
   "source": [
    "Now, let's compute the value of $f_{w,b}(x^{(i)})$\n",
    "\n",
    "\n",
    "for $x^{(0)}$, `fn = w * x[0] + b`\n",
    "\n",
    "for $x^{(1)}$, `fn = w * x[1] + b`"
   ]
  },
  {
   "cell_type": "markdown",
   "metadata": {},
   "source": [
    "But we will calculate this in a function to not do it manually"
   ]
  },
  {
   "cell_type": "code",
   "execution_count": 8,
   "metadata": {},
   "outputs": [],
   "source": [
    "def Calculate_Function(x, w, b):\n",
    "    m = x.shape[0] # size or we can say no of time/ Data points\n",
    "    fn = np.zeros(m) # initialise numpy array filled with 0\n",
    "    for i in range(m):\n",
    "        fn[i] = w * x[i] + b\n",
    "    \n",
    "    return fn"
   ]
  },
  {
   "cell_type": "markdown",
   "metadata": {},
   "source": [
    "Now we have created a model and will now made it calculate data and plot it"
   ]
  },
  {
   "cell_type": "markdown",
   "metadata": {},
   "source": [
    "Change the Values of w and b to make the pines perfect"
   ]
  },
  {
   "cell_type": "code",
   "execution_count": 9,
   "metadata": {},
   "outputs": [
    {
     "name": "stdout",
     "output_type": "stream",
     "text": [
      "[315. 445. 575. 705. 835.]\n"
     ]
    },
    {
     "data": {
      "text/plain": [
       "Text(0.5, 0, 'Area per 1000sqft')"
      ]
     },
     "execution_count": 9,
     "metadata": {},
     "output_type": "execute_result"
    },
    {
     "data": {
      "image/png": "[encoded data removed]",
      "text/plain": [
       "<Figure size 640x480 with 1 Axes>"
      ]
     },
     "metadata": {},
     "output_type": "display_data"
    }
   ],
   "source": [
    "predicted_datapoint = Calculate_Function(x_train, w, b)\n",
    "print(predicted_datapoint)\n",
    "\n",
    "# Now plot it\n",
    "plt.scatter(x = x_train, y = y_train, marker=\"x\", c ='g')\n",
    "plt.plot(x_train, predicted_datapoint,c = \"b\")\n",
    "plt.title(\"Housing Prices\")\n",
    "plt.ylabel(\"price in 1000$\")\n",
    "plt.xlabel(\"Area per 1000sqft\")\n"
   ]
  },
  {
   "cell_type": "markdown",
   "metadata": {},
   "source": [
    "## For observation i did "
   ]
  },
  {
   "cell_type": "markdown",
   "metadata": {},
   "source": [
    "allign the slop to what i think suits the best by observing \n",
    "if slope is flat increase it \n",
    "if straight decrease it\n",
    "\n",
    "for y intercept it increases the height\n",
    "once found the right slope fix it using changing the height\n"
   ]
  },
  {
   "cell_type": "markdown",
   "metadata": {},
   "source": [
    "# Make Prediction"
   ]
  },
  {
   "cell_type": "code",
   "execution_count": 14,
   "metadata": {},
   "outputs": [
    {
     "name": "stdout",
     "output_type": "stream",
     "text": [
      "ENter value of Your property here:787\n",
      "Price what i predicted is $287.31\n"
     ]
    }
   ],
   "source": [
    "x = int(input(\"ENter value of Your property here:\"))\n",
    "# since we have found w and b\n",
    "\n",
    "w = 130\n",
    "b = 185\n",
    "x_i = x/1000\n",
    "\n",
    "predict = w* x_i + b\n",
    "\n",
    "print(f\"Price what i predicted is ${predict}\")"
   ]
  },
  {
   "cell_type": "code",
   "execution_count": null,
   "metadata": {},
   "outputs": [],
   "source": []
  }
 ],
 "metadata": {
  "kernelspec": {
   "display_name": "Python 3 (ipykernel)",
   "language": "python",
   "name": "python3"
  },
  "language_info": {
   "codemirror_mode": {
    "name": "ipython",
    "version": 3
   },
   "file_extension": ".py",
   "mimetype": "text/x-python",
   "name": "python",
   "nbconvert_exporter": "python",
   "pygments_lexer": "ipython3",
   "version": "3.11.5"
  }
 },
 "nbformat": 4,
 "nbformat_minor": 2
}
